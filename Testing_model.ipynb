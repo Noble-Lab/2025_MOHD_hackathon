{
 "cells": [
  {
   "cell_type": "code",
   "execution_count": 1,
   "id": "7daaa0e3-95b0-4403-8a79-e02bd6ba8bb1",
   "metadata": {},
   "outputs": [],
   "source": [
    "from base_imputer import BaseImputer\n",
    "from global_mean import GlobalMeanImputer\n",
    "from random_copy import RandomTrainingSampleImputer\n",
    "from metrics import METRICS"
   ]
  },
  {
   "cell_type": "code",
   "execution_count": 2,
   "id": "5b47f581-b289-4f45-8771-4a3f411c05d3",
   "metadata": {},
   "outputs": [],
   "source": [
    "import pickle, os, json, math, itertools, numpy as np, pandas as pd\n",
    "from scipy.stats import spearmanr\n",
    "from scipy.stats import pearsonr\n",
    "from typing import Dict, List, Iterable, Tuple, Optional"
   ]
  },
  {
   "cell_type": "markdown",
   "id": "f5981983-f5dd-49bc-9aa0-19686bf07f14",
   "metadata": {},
   "source": [
    "## Evaluation functions\n",
    "\n",
    "Every model in this hackathon will be tested with the same evaluation code.  \n",
    "To make your model compatible, **stick to the API defined in `BaseImputer`** (see `base_imputer.py`) and demonstrated in the baselines (`random_copy.py`, `global_mean.py`).\n",
    "\n",
    "Specifically, your model class must implement two functions:\n",
    "\n",
    "1. **`fit(train, input_modalities, target_modalities)`**  \n",
    "   - `train`: a dictionary of `{modality_name: DataFrame}` loaded from a pickle.  \n",
    "     *Rows = samples, Columns = features*.  \n",
    "   - `input_modalities`: a list of modality names that should be used as input.  \n",
    "   - `target_modalities`: a list containing the **one modality** to be predicted.  \n",
    "\n",
    "   This is where you initialize or train your model.\n",
    "\n",
    "2. **`predict(eval_split, target_modalities)`**  \n",
    "   - `eval_split`: another dictionary of `{modality_name: DataFrame}` (validation or test split).  \n",
    "   - `target_modalities`: the same target modality list passed to `fit`.  \n",
    "\n",
    "   This function should return a dictionary of `{target_modality: DataFrame}`,  \n",
    "   where the DataFrame has the same index (samples) and columns (features) as the true target.\n",
    "\n",
    "---\n",
    "\n",
    "### Example\n",
    "\n",
    "The `RandomTrainingSampleImputer` baseline shows the simplest valid implementation:\n",
    "\n",
    "- `fit` just stores the training data.  \n",
    "- `predict` copies rows from random training samples as predictions.\n",
    "\n",
    "If your model follows the same pattern, it will work automatically with the shared `evaluate_model` function provided below.\n",
    "\n",
    "---\n"
   ]
  },
  {
   "cell_type": "code",
   "execution_count": 3,
   "id": "e4940173-730e-47bc-8e51-35921e65381a",
   "metadata": {},
   "outputs": [],
   "source": [
    "def load_split_dict(path: str) -> Dict[str, pd.DataFrame]:\n",
    "    with open(path, \"rb\") as f:\n",
    "        d = pickle.load(f)\n",
    "    assert isinstance(d, dict) and all(isinstance(v, pd.DataFrame) for v in d.values())\n",
    "    return d\n",
    "\n",
    "def evaluate_model(\n",
    "    model: BaseImputer,\n",
    "    train: Dict[str, pd.DataFrame],\n",
    "    eval_split: Dict[str, pd.DataFrame],\n",
    "    input_modalities: List[str],\n",
    "    target_modality: str,\n",
    "    metrics: Iterable[str] = (\"mae\", \"rmse\", \"r2\", \"spearman\", \"pearson_featurewise\",\"pearson_flat\"),\n",
    "):\n",
    "    \"\"\"\n",
    "    Fit on train, predict on eval_split, and compute metrics for ONE target modality.\n",
    "    \"\"\"\n",
    "    # Presence + alignment checks\n",
    "    assert target_modality in train and target_modality in eval_split, \\\n",
    "        f\"Missing modality '{target_modality}' in splits\"\n",
    "    assert (train[target_modality].columns == eval_split[target_modality].columns).all(), \\\n",
    "        f\"Feature mismatch in '{target_modality}'\"\n",
    "\n",
    "    for m in input_modalities:\n",
    "        assert m in train and m in eval_split, f\"Missing input modality '{m}' in splits\"\n",
    "\n",
    "    model.fit(train, input_modalities, [target_modality])\n",
    "    preds = model.predict(eval_split, [target_modality])\n",
    "\n",
    "    y_true = eval_split[target_modality].to_numpy()\n",
    "    y_pred = preds[target_modality].to_numpy()\n",
    "\n",
    "    scores = {k: METRICS[k](y_true, y_pred) for k in metrics}\n",
    "\n",
    "    results = {\n",
    "        \"model\": model.name,\n",
    "        \"target\": target_modality,\n",
    "        \"inputs\": input_modalities,\n",
    "        \"metrics\": scores,\n",
    "    }\n",
    "    return results, preds[target_modality]"
   ]
  },
  {
   "cell_type": "markdown",
   "id": "fced8ddb-a484-49e0-998a-d902af11f003",
   "metadata": {},
   "source": [
    "## Example: Running a baseline model\n",
    "\n",
    "Now that we have our train/val/test splits loaded, let’s see how to actually\n",
    "**fit and evaluate** a model.\n",
    "\n",
    "In this example:\n",
    "\n",
    "- We pick one modality to be the **target** (the one we want to impute).  \n",
    "- All the remaining modalities become the **inputs**.  \n",
    "- We initialize the simple baseline `RandomTrainingSampleImputer`.  \n",
    "- We call `evaluate_model`, which will:\n",
    "  1. Fit the model on the training split,\n",
    "  2. Use it to predict the target modality in the test split,\n",
    "  3. Compute metrics (MAE, RMSE, R², Spearman, Pearson),\n",
    "  4. Return both the results dictionary and the predicted DataFrame.\n",
    "\n",
    "You can replace `RandomTrainingSampleImputer` with your own model class, and the\n",
    "same workflow will work automatically.\n"
   ]
  },
  {
   "cell_type": "code",
   "execution_count": 10,
   "id": "9bab01f0-fa30-42c2-8884-b852b6535a36",
   "metadata": {},
   "outputs": [
    {
     "data": {
      "text/plain": [
       "(['metabolomics', 'methylation', 'miRNA', 'proteomics', 'rna'],\n",
       " {'metabolomics': (672, 225),\n",
       "  'miRNA': (672, 734),\n",
       "  'proteomics': (672, 214),\n",
       "  'rna': (672, 2000),\n",
       "  'methylation': (672, 2000)})"
      ]
     },
     "execution_count": 10,
     "metadata": {},
     "output_type": "execute_result"
    }
   ],
   "source": [
    "train_path = \"Data/ccle_split_train.pkl\"\n",
    "val_path   = \"Data/ccle_split_val.pkl\"\n",
    "test_path  = \"Data/ccle_split_test.pkl\"\n",
    "\n",
    "train_dict = load_split_dict(train_path)\n",
    "val_dict   = load_split_dict(val_path)\n",
    "test_dict  = load_split_dict(test_path)\n",
    "\n",
    "sorted(train_dict.keys()), {m: df.shape for m, df in train_dict.items()}"
   ]
  },
  {
   "cell_type": "code",
   "execution_count": null,
   "id": "aeecb62a-15d3-463d-9fb8-0ba7a752c431",
   "metadata": {},
   "outputs": [],
   "source": [
    "target_modalities = list(train_dict.keys())[3]\n",
    "input_modalities = [m for m in train_dict if m != target_modalities]\n",
    "model = RandomTrainingSampleImputer(seed=42)\n",
    "res,pre = evaluate_model(model, train_dict, test_dict, input_modalities, target_modalities)"
   ]
  },
  {
   "cell_type": "code",
   "execution_count": 14,
   "id": "fe86a62e-1351-497c-a479-18efb417ffc1",
   "metadata": {},
   "outputs": [
    {
     "data": {
      "text/plain": [
       "{'model': 'random_copy',\n",
       " 'target': 'rna',\n",
       " 'inputs': ['metabolomics', 'miRNA', 'proteomics', 'methylation'],\n",
       " 'metrics': {'mae': 0.8741846934134968,\n",
       "  'rmse': 1.4268537213049715,\n",
       "  'r2': -1.226296310726437,\n",
       "  'spearman': -0.005542276685118547,\n",
       "  'pearson_featurewise': -0.005639831756564695,\n",
       "  'pearson_flat': -0.008441809328375242}}"
      ]
     },
     "execution_count": 14,
     "metadata": {},
     "output_type": "execute_result"
    }
   ],
   "source": [
    "res"
   ]
  },
  {
   "cell_type": "code",
   "execution_count": null,
   "id": "4778c311-7456-443a-8b83-8487a2c59099",
   "metadata": {},
   "outputs": [],
   "source": []
  }
 ],
 "metadata": {
  "kernelspec": {
   "display_name": ".venv",
   "language": "python",
   "name": "python3"
  },
  "language_info": {
   "codemirror_mode": {
    "name": "ipython",
    "version": 3
   },
   "file_extension": ".py",
   "mimetype": "text/x-python",
   "name": "python",
   "nbconvert_exporter": "python",
   "pygments_lexer": "ipython3",
   "version": "3.12.11"
  }
 },
 "nbformat": 4,
 "nbformat_minor": 5
}
